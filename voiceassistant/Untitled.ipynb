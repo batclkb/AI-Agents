{
 "cells": [
  {
   "cell_type": "code",
   "execution_count": null,
   "id": "54e6c2db-ba52-4743-be19-9115600f01ae",
   "metadata": {},
   "outputs": [],
   "source": [
    "!pip install openai-whisper gtts sounddevice numpy IPython"
   ]
  },
  {
   "cell_type": "code",
   "execution_count": null,
   "id": "902cd1ce-1245-4560-af0e-5a17a2594a7a",
   "metadata": {},
   "outputs": [],
   "source": [
    "#mikrofon indexini belirleme\n",
    "import sounddevice as sd\n",
    "\n",
    "for idx, device in enumerate(sd.query_devices()):\n",
    "    if device['max_input_channels']>0:\n",
    "        print(f\"{idx}: {device['name']} (input: {device['max_input_channels']})\")"
   ]
  },
  {
   "cell_type": "code",
   "execution_count": null,
   "id": "9509d602-dbdc-4f8f-836d-e42e7a44889d",
   "metadata": {},
   "outputs": [],
   "source": [
    "#ses kaydı alma ve dinleme\n",
    "import sounddevice as sd\n",
    "from scipy.io.wavfile import write\n",
    "from IPython.display import Audio\n",
    "import numpy as np\n",
    "\n",
    "#mikrofon indexi\n",
    "sd.default.device=0\n",
    "\n",
    "fs=16000\n",
    "saniye=5\n",
    "\n",
    "print(\"Kayda başlamak için konuşunuz...\")\n",
    "myrecording=sd.rec(int(saniye*fs), samplerate=fs, channels=1, dtype='int16')\n",
    "sd.wait()\n",
    "print(\"kayıt tamam.\")\n",
    "write('recorded.wav',fs,myrecording)\n",
    "\n",
    "#ses dosyasını oynat\n",
    "display(Audio('recorded.wav'))\n",
    "\n",
    "print(\"Max:\",np.max(myrecording),\"Min:\",np.min(myrecording),\"Mean:\",np.mean(myrecording))"
   ]
  },
  {
   "cell_type": "code",
   "execution_count": null,
   "id": "ec31fb64-0e5f-493e-b6b8-cbdbe3a88422",
   "metadata": {},
   "outputs": [],
   "source": [
    "#sesin metine çevirilmesi\n",
    "import whisper\n",
    "\n",
    "model=whisper.load_model(\"base\")\n",
    "result=model.transcribe(\"recorded.wav\", language=\"tr\")\n",
    "print(\"Transkrip:\",result[\"text\"])"
   ]
  },
  {
   "cell_type": "code",
   "execution_count": null,
   "id": "e99241a4-41dd-4fa4-b4b1-0d89665f7884",
   "metadata": {},
   "outputs": [],
   "source": [
    "#LM Studio ile yanıt üretme\n",
    "import openai\n",
    "\n",
    "client = openai.OpenAI(\n",
    "    base_url=\"http://localhost:1234/v1\",\n",
    "    api_key=\"lm-studio\"\n",
    ")\n",
    "\n",
    "system_message = \"\"\"\n",
    "Sen bir Türkçe konuşan sesli asistansın.\n",
    "Yanıtların kısa, net ve samimi olsun.\n",
    "\"\"\"\n",
    "\n",
    "def ask_llm(prompt, system_message=system_message):\n",
    "    response = client.chat.completions.create(\n",
    "        model=\"mistral\",\n",
    "        messages=[\n",
    "            {\"role\": \"system\", \"content\": system_message},\n",
    "            {\"role\": \"user\", \"content\": prompt}\n",
    "        ],\n",
    "        max_tokens=300,\n",
    "        temperature=0.7,\n",
    "    )\n",
    "    return response.choices[0].message.content\n",
    "\n",
    "llm_response=ask_llm(result[\"text\"])\n",
    "print(\"Asistan:\", llm_response)"
   ]
  },
  {
   "cell_type": "code",
   "execution_count": null,
   "id": "3fdfbf6c-7efa-439f-b6d4-f5b6d5ee3623",
   "metadata": {},
   "outputs": [],
   "source": [
    "#yanıtı sese çevirme\n",
    "from gtts import gTTS\n",
    "from IPython.display import Audio\n",
    "tts=gTTS(text=llm_response, lang=\"tr\")\n",
    "tts.save(\"response.mp3\")\n",
    "display(Audio(\"response.mp3\",autoplay=True))"
   ]
  }
 ],
 "metadata": {
  "kernelspec": {
   "display_name": "Python [conda env:base] *",
   "language": "python",
   "name": "conda-base-py"
  },
  "language_info": {
   "codemirror_mode": {
    "name": "ipython",
    "version": 3
   },
   "file_extension": ".py",
   "mimetype": "text/x-python",
   "name": "python",
   "nbconvert_exporter": "python",
   "pygments_lexer": "ipython3",
   "version": "3.12.7"
  }
 },
 "nbformat": 4,
 "nbformat_minor": 5
}
