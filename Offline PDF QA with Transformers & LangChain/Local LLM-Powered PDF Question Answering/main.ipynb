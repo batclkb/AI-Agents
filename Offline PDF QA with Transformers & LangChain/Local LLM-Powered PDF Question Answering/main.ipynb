{
 "cells": [
  {
   "cell_type": "code",
   "execution_count": null,
   "id": "8469133a-0d43-4429-92e5-a5f42971fdce",
   "metadata": {},
   "outputs": [],
   "source": []
  }
 ],
 "metadata": {
  "kernelspec": {
   "display_name": "",
   "name": ""
  },
  "language_info": {
   "name": ""
  }
 },
 "nbformat": 4,
 "nbformat_minor": 5
}
